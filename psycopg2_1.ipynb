{
 "cells": [
  {
   "cell_type": "code",
   "execution_count": 76,
   "metadata": {},
   "outputs": [],
   "source": [
    "import psycopg2\n",
    "import psycopg2.extras "
   ]
  },
  {
   "cell_type": "code",
   "execution_count": 83,
   "metadata": {},
   "outputs": [],
   "source": [
    "hostname = \"localhost\"\n",
    "database = \"postgres\"\n",
    "username = \"postgres\"\n",
    "pwd = \"postgres\"\n",
    "port_id = 5432\n",
    "\n",
    "conn = None\n",
    "cur = None\n",
    "\n",
    "data = pd.DataFrame()"
   ]
  },
  {
   "cell_type": "code",
   "execution_count": 89,
   "metadata": {},
   "outputs": [
    {
     "name": "stdout",
     "output_type": "stream",
     "text": [
      "[15, 'Go Down', 99, 1, 1, 'AC/DC', 331180, 10847611, Decimal('0.99')]\n",
      "[16, 'Dog Eat Dog', 99, 1, 1, 'AC/DC', 215196, 7032162, Decimal('0.99')]\n",
      "[17, 'Let There Be Rock', 99, 1, 1, 'AC/DC', 366654, 12021261, Decimal('0.99')]\n",
      "[18, 'Bad Boy Boogie', 99, 1, 1, 'AC/DC', 267728, 8776140, Decimal('0.99')]\n",
      "[1256, 'Be Quick Or Be Dead', 99, 1, 1, 'Bruce Dickinson/Janick Gers', 204512, 8181888, Decimal('0.99')]\n",
      "[1257, 'From Here To Eternity', 99, 1, 1, 'Steve Harris', 218357, 8739038, Decimal('0.99')]\n",
      "[1258, 'Afraid To Shoot Strangers', 99, 1, 1, 'Steve Harris', 416496, 16664589, Decimal('0.99')]\n",
      "[1259, 'Fear Is The Key', 99, 1, 1, 'Bruce Dickinson/Janick Gers', 335307, 13414528, Decimal('0.99')]\n",
      "[1260, \"Childhood's End\", 99, 1, 1, 'Steve Harris', 280607, 11225216, Decimal('0.99')]\n",
      "[1261, 'Wasting Love', 99, 1, 1, 'Bruce Dickinson/Janick Gers', 350981, 14041216, Decimal('0.99')]\n",
      "[1262, 'The Fugitive', 99, 1, 1, 'Steve Harris', 294112, 11765888, Decimal('0.99')]\n",
      "[1263, 'Chains Of Misery', 99, 1, 1, 'Bruce Dickinson/David Murray', 217443, 8700032, Decimal('0.99')]\n",
      "[1264, 'The Apparition', 99, 1, 1, 'Janick Gers/Steve Harris', 234605, 9386112, Decimal('0.99')]\n",
      "[1265, 'Judas Be My Guide', 99, 1, 1, 'Bruce Dickinson/David Murray', 188786, 7553152, Decimal('0.99')]\n",
      "[1266, 'Weekend Warrior', 99, 1, 1, 'Janick Gers/Steve Harris', 339748, 13594678, Decimal('0.99')]\n",
      "[1267, 'Fear Of The Dark', 99, 1, 1, 'Steve Harris', 436976, 17483789, Decimal('0.99')]\n",
      "[19, 'Problem Child', 99, 1, 1, 'AC/DC', 325041, 10617116, Decimal('0.99')]\n",
      "[20, 'Overdose', 99, 1, 1, 'AC/DC', 369319, 12066294, Decimal('0.99')]\n",
      "[21, \"Hell Ain't A Bad Place To Be\", 99, 1, 1, 'AC/DC', 254380, 8331286, Decimal('0.99')]\n",
      "[22, 'Whole Lotta Rosie', 99, 1, 1, 'AC/DC', 323761, 10547154, Decimal('0.99')]\n"
     ]
    }
   ],
   "source": [
    "try: \n",
    "    conn = psycopg2.connect(\n",
    "        host = hostname,\n",
    "        dbname = database,\n",
    "        user = username,\n",
    "        password = pwd,\n",
    "        port = port_id\n",
    "    )\n",
    "    cur = conn.cursor(cursor_factory=psycopg2.extras.DictCursor)\n",
    "    create_script = '''SELECT * FROM \"Track\" WHERE \"AlbumId\" = 99'''\n",
    "    \n",
    "    cur.execute(create_script)\n",
    "    for record in cur.fetchall():\n",
    "        print(record)\n",
    "    conn.commit()\n",
    "\n",
    "    cur.close()\n",
    "    conn.close()\n",
    "\n",
    "except:\n",
    "    print(\"Couldn't connect to database.\")\n",
    "finally:\n",
    "    if cur is not None:\n",
    "        cur.close()\n",
    "    if conn is not None:\n",
    "        conn.close()"
   ]
  },
  {
   "cell_type": "code",
   "execution_count": 65,
   "metadata": {},
   "outputs": [],
   "source": [
    "# conn = psycopg2.connect(\n",
    "#         host = hostname,\n",
    "#         dbname = database,\n",
    "#         user = username,\n",
    "#         password = pwd,\n",
    "#         port = port_id)"
   ]
  },
  {
   "cell_type": "code",
   "execution_count": 66,
   "metadata": {},
   "outputs": [],
   "source": [
    "# cur = conn.cursor()"
   ]
  },
  {
   "cell_type": "code",
   "execution_count": 67,
   "metadata": {},
   "outputs": [],
   "source": [
    "# create_script = '''CREATE TABLE IF NOT EXISTS employee4 (\n",
    "# id int PRIMARY KEY,\n",
    "# name varchar(50),\n",
    "# dept varchar(30),\n",
    "# jozko varchar(45)\n",
    "# )'''"
   ]
  },
  {
   "cell_type": "code",
   "execution_count": 85,
   "metadata": {},
   "outputs": [
    {
     "data": {
      "text/html": [
       "<div>\n",
       "<style scoped>\n",
       "    .dataframe tbody tr th:only-of-type {\n",
       "        vertical-align: middle;\n",
       "    }\n",
       "\n",
       "    .dataframe tbody tr th {\n",
       "        vertical-align: top;\n",
       "    }\n",
       "\n",
       "    .dataframe thead th {\n",
       "        text-align: right;\n",
       "    }\n",
       "</style>\n",
       "<table border=\"1\" class=\"dataframe\">\n",
       "  <thead>\n",
       "    <tr style=\"text-align: right;\">\n",
       "      <th></th>\n",
       "    </tr>\n",
       "  </thead>\n",
       "  <tbody>\n",
       "  </tbody>\n",
       "</table>\n",
       "</div>"
      ],
      "text/plain": [
       "Empty DataFrame\n",
       "Columns: []\n",
       "Index: []"
      ]
     },
     "execution_count": 85,
     "metadata": {},
     "output_type": "execute_result"
    }
   ],
   "source": [
    "data"
   ]
  },
  {
   "cell_type": "code",
   "execution_count": null,
   "metadata": {},
   "outputs": [],
   "source": []
  }
 ],
 "metadata": {
  "kernelspec": {
   "display_name": "Python 3.10.2 64-bit",
   "language": "python",
   "name": "python3"
  },
  "language_info": {
   "codemirror_mode": {
    "name": "ipython",
    "version": 3
   },
   "file_extension": ".py",
   "mimetype": "text/x-python",
   "name": "python",
   "nbconvert_exporter": "python",
   "pygments_lexer": "ipython3",
   "version": "3.10.2"
  },
  "orig_nbformat": 4,
  "vscode": {
   "interpreter": {
    "hash": "4d8546321cadb325a106918ecab26f0085318f6086fcab55f85fe19b56b4f4f0"
   }
  }
 },
 "nbformat": 4,
 "nbformat_minor": 2
}
